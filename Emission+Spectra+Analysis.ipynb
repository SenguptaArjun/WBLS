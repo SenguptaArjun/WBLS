{
 "cells": [
  {
   "cell_type": "markdown",
   "metadata": {},
   "source": [
    "Goals for this file:\n",
    "\n",
    "- Take a DI water data set and find its best fit coefficients. \n",
    "- Find the uncertainty in these coefficients. \n",
    "- Access all data files sequentially\n",
    "    -- Find their best fit lines, as well as the number of counts found for wavelengths shorter than 275 nm\n",
    "    -- Scale the best fit of each data set according to the ratio of the aforementioned number and the number found\n",
    "     for the DI water\n",
    "    -- Subtract the best fit from each data set\n",
    "    -- Find the total number of counts for each data set\n",
    "    -- Graph the results"
   ]
  },
  {
   "cell_type": "code",
   "execution_count": 23,
   "metadata": {
    "scrolled": true
   },
   "outputs": [
    {
     "data": {
      "image/png": "[encoded data removed]",
      "text/plain": [
       "<matplotlib.figure.Figure at 0x7f09c8229278>"
      ]
     },
     "metadata": {},
     "output_type": "display_data"
    }
   ],
   "source": [
    "import numpy as np\n",
    "import matplotlib.pyplot as plt\n",
    "import glob\n",
    "\n",
    "DI_pathname = '/home/leonidus/WBLS_Data/DI/DI_2NM_1.arc_data'\n",
    "\n",
    "def light_machine(path):\n",
    "    with open(DI_pathname) as calib:\n",
    "        for _ in range(100):\n",
    "            next(calib)\n",
    "        wavelength = []\n",
    "        counts = []\n",
    "        for line in calib:\n",
    "            temp = line.split()\n",
    "            wavelength.append(float(temp[0]))\n",
    "            counts.append(float(temp[1]))\n",
    "            \n",
    "    return np.array(wavelength), np.array(counts)\n",
    "\n",
    "def initial_counts(wavelength, counts):\n",
    "    return np.trapz(wavelength[:11], counts[:11])\n",
    "\n",
    "def best_fit_modifier(wavelength, counts, c_wavelength, c_counts):\n",
    "    new_fit = np.polyfit(c_wavelength, c_counts, 2)\n",
    "    ratio = initial_counts(c_wavelength, c_counts) / initial_counts(wavelength, counts)\n",
    "    new_fit[0] *= ratio\n",
    "    return new_fit\n",
    "\n",
    "def best_fit_subtract():\n",
    "\n",
    "cal_wa, cal_ca = light_machine(DI_pathname)\n",
    "\n",
    "best_fit = np.polyfit(cal_wa, cal_ca, 2)\n",
    "bf_eq = np.poly1d(best_fit)\n",
    "\n",
    "x_pts = np.linspace(cal_wa[0], cal_wa[-1], 100)\n",
    "y_pts = bf_eq(x_pts)\n",
    "\n",
    "plt.plot(cal_wa, cal_ca, 'o', x_pts, y_pts)\n",
    "plt.ylim(0, 500)\n",
    "plt.show()"
   ]
  },
  {
   "cell_type": "code",
   "execution_count": 26,
   "metadata": {},
   "outputs": [
    {
     "data": {
      "text/plain": [
       "2598.0"
      ]
     },
     "execution_count": 26,
     "metadata": {},
     "output_type": "execute_result"
    }
   ],
   "source": [
    "# Numerical integration of 250-275 nm range\n",
    "\n",
    "calib_light = np.trapz(ca[:11], wa[:11])"
   ]
  },
  {
   "cell_type": "markdown",
   "metadata": {},
   "source": [
    "Figured it out. To subtract the best fit from each data set after the ratio has been found, I'll just use the array subtract method. The problem that may arise here is negative values. I'm not sure how to process them and I'll update this once I've seen Luk. "
   ]
  },
  {
   "cell_type": "code",
   "execution_count": 21,
   "metadata": {},
   "outputs": [
    {
     "data": {
      "image/png": "[encoded data removed]",
      "text/plain": [
       "<matplotlib.figure.Figure at 0x7f09e4348550>"
      ]
     },
     "metadata": {},
     "output_type": "display_data"
    }
   ],
   "source": [
    "import numpy as np\n",
    "import matplotlib.pyplot as plt\n",
    "import glob\n",
    "\n",
    "calib_light = np.trapz(ca[:11], wa[:11])\n",
    "\n",
    "def initial_counts(wavelength, counts):\n",
    "    return np.trapz(wavelength[:11], counts[:11])"
   ]
  },
  {
   "cell_type": "markdown",
   "metadata": {},
   "source": [
    "The code below will be used to analyze every single data set we've taken and collect the total counts in a list. The next step will be to isolate repeat trials and average them. Once that's been done successfully, bringing in additional data sets will be an easy matter. "
   ]
  },
  {
   "cell_type": "code",
   "execution_count": 7,
   "metadata": {},
   "outputs": [
    {
     "ename": "NameError",
     "evalue": "name 'glob' is not defined",
     "output_type": "error",
     "traceback": [
      "\u001b[0;31m---------------------------------------------------------------------------\u001b[0m",
      "\u001b[0;31mNameError\u001b[0m                                 Traceback (most recent call last)",
      "\u001b[0;32m<ipython-input-7-e343d15d856a>\u001b[0m in \u001b[0;36m<module>\u001b[0;34m()\u001b[0m\n\u001b[1;32m      1\u001b[0m \u001b[0mlight_counts\u001b[0m \u001b[0;34m=\u001b[0m \u001b[0;34m[\u001b[0m\u001b[0;34m]\u001b[0m\u001b[0;34m\u001b[0m\u001b[0m\n\u001b[1;32m      2\u001b[0m \u001b[0;34m\u001b[0m\u001b[0m\n\u001b[0;32m----> 3\u001b[0;31m \u001b[0;32mfor\u001b[0m \u001b[0mfile\u001b[0m \u001b[0;32min\u001b[0m \u001b[0mglob\u001b[0m\u001b[0;34m.\u001b[0m\u001b[0miblog\u001b[0m\u001b[0;34m(\u001b[0m\u001b[0;34m\"/home/leonidus/WBLS_Data/10-31-17/*.arc_data\"\u001b[0m\u001b[0;34m)\u001b[0m\u001b[0;34m:\u001b[0m\u001b[0;34m\u001b[0m\u001b[0m\n\u001b[0m\u001b[1;32m      4\u001b[0m     \u001b[0mlight_counts\u001b[0m\u001b[0;34m.\u001b[0m\u001b[0mappend\u001b[0m\u001b[0;34m(\u001b[0m\u001b[0mlight_machine\u001b[0m\u001b[0;34m(\u001b[0m\u001b[0mfile\u001b[0m\u001b[0;34m)\u001b[0m\u001b[0;34m)\u001b[0m\u001b[0;34m\u001b[0m\u001b[0m\n\u001b[1;32m      5\u001b[0m \u001b[0;34m\u001b[0m\u001b[0m\n",
      "\u001b[0;31mNameError\u001b[0m: name 'glob' is not defined"
     ]
    }
   ],
   "source": [
    "import glob\n",
    "\n",
    "light_counts = []\n",
    "\n",
    "for file in glob.iblog(\"/home/leonidus/WBLS_Data/10-31-17/*.arc_data\"):\n",
    "    light_counts.append(light_machine(file))\n",
    "    "
   ]
  },
  {
   "cell_type": "code",
   "execution_count": null,
   "metadata": {
    "collapsed": true
   },
   "outputs": [],
   "source": []
  }
 ],
 "metadata": {
  "kernelspec": {
   "display_name": "Python 3",
   "language": "python",
   "name": "python3"
  },
  "language_info": {
   "codemirror_mode": {
    "name": "ipython",
    "version": 3
   },
   "file_extension": ".py",
   "mimetype": "text/x-python",
   "name": "python",
   "nbconvert_exporter": "python",
   "pygments_lexer": "ipython3",
   "version": "3.6.3"
  }
 },
 "nbformat": 4,
 "nbformat_minor": 2
}
